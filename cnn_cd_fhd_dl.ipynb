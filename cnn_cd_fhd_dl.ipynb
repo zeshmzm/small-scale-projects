{
  "nbformat": 4,
  "nbformat_minor": 0,
  "metadata": {
    "colab": {
      "name": "cnn_cd_fhd_dl.ipynb",
      "provenance": []
    },
    "kernelspec": {
      "name": "python3",
      "display_name": "Python 3"
    },
    "language_info": {
      "name": "python"
    },
    "accelerator": "GPU"
  },
  "cells": [
    {
      "cell_type": "code",
      "execution_count": null,
      "metadata": {
        "colab": {
          "base_uri": "https://localhost:8080/"
        },
        "id": "OXN3xOfcUPmN",
        "outputId": "0339cd5e-6c8c-4ff2-8c94-8c2a02c7d0e3"
      },
      "outputs": [
        {
          "output_type": "stream",
          "name": "stdout",
          "text": [
            "Extract Complete!!\n"
          ]
        }
      ],
      "source": [
        "from zipfile import ZipFile \n",
        "\n",
        "fn = \"/content/drive/MyDrive/catsdogs/dataset.zip\"\n",
        "\n",
        "with ZipFile(fn, 'r') as zip:\n",
        "  zip.extractall()\n",
        "  print('Extract Complete!!')\n"
      ]
    },
    {
      "cell_type": "code",
      "source": [
        "from keras.models import Sequential\n",
        "from keras.layers import Conv2D\n",
        "from keras.layers import MaxPooling2D\n",
        "from keras.layers import Flatten\n",
        "from keras.layers import Dense\n",
        "from keras.preprocessing.image import ImageDataGenerator"
      ],
      "metadata": {
        "id": "TmmBNdy-g75K"
      },
      "execution_count": null,
      "outputs": []
    },
    {
      "cell_type": "code",
      "source": [
        "#CNN Initialization\n",
        "\n",
        "cnn_cd = Sequential();\n",
        "\n",
        "#Conv\n",
        "cnn_cd.add(Conv2D(32, (3,3),input_shape = (64,64,3), activation= 'relu'))\n",
        "\n",
        "#MP\n",
        "cnn_cd.add(MaxPooling2D(pool_size= (2,2)))\n",
        "\n",
        "#------------------2--------------------#\n",
        "#Conv\n",
        "cnn_cd.add(Conv2D(16,3,3,activation= 'relu'))\n",
        "\n",
        "#MP\n",
        "cnn_cd.add(MaxPooling2D(pool_size= (2,2)))\n",
        "#Flatten\n",
        "cnn_cd.add(Flatten())\n",
        "\n",
        "#FCL\n",
        "cnn_cd.add(Dense(units = 128, activation= 'relu'))\n",
        "cnn_cd.add(Dense(units = 1, activation= 'sigmoid'))\n",
        "\n",
        "\n",
        "#Compile\n",
        "cnn_cd.compile(optimizer= 'adam', loss= 'binary_crossentropy', metrics= ['accuracy'])"
      ],
      "metadata": {
        "id": "_1XKGtkrg7rC"
      },
      "execution_count": null,
      "outputs": []
    },
    {
      "cell_type": "code",
      "source": [
        ""
      ],
      "metadata": {
        "id": "sO0rsjbulFNC"
      },
      "execution_count": null,
      "outputs": []
    },
    {
      "cell_type": "code",
      "source": [
        "train_datagen = ImageDataGenerator(\n",
        "        rescale=1./255,\n",
        "        shear_range=0.2,\n",
        "        zoom_range=0.2,\n",
        "        horizontal_flip=True)\n",
        "\n",
        "test_datagen = ImageDataGenerator(rescale=1./255)\n",
        "\n",
        "train_generator = train_datagen.flow_from_directory(\n",
        "        '/content/dataset/training_set',\n",
        "        target_size=(64, 64),\n",
        "        batch_size=32,\n",
        "        class_mode='binary')\n",
        "\n",
        "test_generator = test_datagen.flow_from_directory(\n",
        "        '/content/dataset/test_set',\n",
        "        target_size=(64, 64),\n",
        "        batch_size=32,\n",
        "        class_mode='binary')\n",
        "\n",
        "cnn_cd.fit_generator(\n",
        "        train_generator,\n",
        "        steps_per_epoch=100,\n",
        "        epochs = 3,\n",
        "        validation_data=test_generator,\n",
        "        validation_steps=2000)"
      ],
      "metadata": {
        "colab": {
          "base_uri": "https://localhost:8080/"
        },
        "id": "21Tb-EjWlFHu",
        "outputId": "34404269-048a-465c-9ff7-9adfbbe3526d"
      },
      "execution_count": null,
      "outputs": [
        {
          "output_type": "stream",
          "name": "stdout",
          "text": [
            "Found 8000 images belonging to 2 classes.\n",
            "Found 2000 images belonging to 2 classes.\n"
          ]
        },
        {
          "output_type": "stream",
          "name": "stderr",
          "text": [
            "/usr/local/lib/python3.7/dist-packages/ipykernel_launcher.py:26: UserWarning: `Model.fit_generator` is deprecated and will be removed in a future version. Please use `Model.fit`, which supports generators.\n"
          ]
        },
        {
          "output_type": "stream",
          "name": "stdout",
          "text": [
            "Epoch 1/3\n",
            "100/100 [==============================] - ETA: 0s - loss: 0.6503 - accuracy: 0.6159WARNING:tensorflow:Your input ran out of data; interrupting training. Make sure that your dataset or generator can generate at least `steps_per_epoch * epochs` batches (in this case, 2000 batches). You may need to use the repeat() function when building your dataset.\n",
            "100/100 [==============================] - 23s 231ms/step - loss: 0.6503 - accuracy: 0.6159 - val_loss: 0.6306 - val_accuracy: 0.6600\n",
            "Epoch 2/3\n",
            "100/100 [==============================] - 13s 126ms/step - loss: 0.6301 - accuracy: 0.6509\n",
            "Epoch 3/3\n",
            "100/100 [==============================] - 13s 127ms/step - loss: 0.6145 - accuracy: 0.6691\n"
          ]
        },
        {
          "output_type": "execute_result",
          "data": {
            "text/plain": [
              "<keras.callbacks.History at 0x7f013e544e50>"
            ]
          },
          "metadata": {},
          "execution_count": 26
        }
      ]
    },
    {
      "cell_type": "code",
      "source": [
        "import numpy as np\n",
        "from keras.preprocessing import image\n",
        "\n",
        "ti = image.load_img('/content/dataset/single_prediction/cat_or_dog_1.jpg', target_size= (64, 64))\n",
        "ti = image.img_to_array(ti)\n",
        "ti = np.expand_dims(ti, axis=0)\n",
        "\n",
        "res = cnn_cd.predict(ti)\n",
        "if res[0][0] == 1:\n",
        "  print('dog')\n",
        "else:\n",
        "  print('cat')"
      ],
      "metadata": {
        "colab": {
          "base_uri": "https://localhost:8080/"
        },
        "id": "MZ1u4A2plFFN",
        "outputId": "60651412-2598-4197-addb-4842de87c485"
      },
      "execution_count": null,
      "outputs": [
        {
          "output_type": "stream",
          "name": "stdout",
          "text": [
            "dog\n"
          ]
        }
      ]
    }
  ]
}