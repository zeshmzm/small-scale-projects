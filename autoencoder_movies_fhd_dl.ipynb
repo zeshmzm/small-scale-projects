{
  "nbformat": 4,
  "nbformat_minor": 0,
  "metadata": {
    "colab": {
      "name": "autoencoder_movies_fhd_dl.ipynb",
      "provenance": [],
      "collapsed_sections": []
    },
    "kernelspec": {
      "name": "python3",
      "display_name": "Python 3"
    },
    "language_info": {
      "name": "python"
    }
  },
  "cells": [
    {
      "cell_type": "code",
      "execution_count": null,
      "metadata": {
        "colab": {
          "base_uri": "https://localhost:8080/"
        },
        "id": "Etw009CtCQix",
        "outputId": "273ee26f-e41f-489a-8672-67656ca9240a"
      },
      "outputs": [
        {
          "output_type": "stream",
          "name": "stdout",
          "text": [
            "Extract Complete!!\n"
          ]
        }
      ],
      "source": [
        "from zipfile import ZipFile \n",
        "\n",
        "fn = \"/content/drive/MyDrive/Movie/1m/ml-1m.zip\"\n",
        "with ZipFile(fn, 'r') as zip:\n",
        "  zip.extractall()\n",
        "  print('Extract Complete!!')\n"
      ]
    },
    {
      "cell_type": "code",
      "source": [
        "import numpy as np\n",
        "import pandas as pd\n",
        "import torch\n",
        "import torch.nn as nn\n",
        "import torch.nn.parallel\n",
        "import torch.optim as optim\n",
        "import torch.utils.data\n",
        "from torch.autograd import Variable\n"
      ],
      "metadata": {
        "id": "tehtsiZ7Cpz9"
      },
      "execution_count": null,
      "outputs": []
    },
    {
      "cell_type": "markdown",
      "source": [
        ""
      ],
      "metadata": {
        "id": "aFhYzJarElIs"
      }
    },
    {
      "cell_type": "code",
      "source": [
        "#Dataset Code\n",
        "m = pd.read_csv('ml-1m/movies.dat', sep='::', header=  None, engine = 'python', encoding = 'latin-1')\n",
        "u = pd.read_csv('ml-1m//users.dat', sep='::', header=  None, engine = 'python', encoding = 'latin-1')\n",
        "r = pd.read_csv('ml-1m/ratings.dat', sep='::', header=  None, engine = 'python', encoding = 'latin-1') "
      ],
      "metadata": {
        "id": "pqJeW8_dCpxk"
      },
      "execution_count": null,
      "outputs": []
    },
    {
      "cell_type": "code",
      "source": [
        "#Trainign Testing DS\n",
        "\n",
        "tr_set = pd.read_csv('ml-100k/u1.base', delimiter = '\\t')\n",
        "\n",
        "tr_set = np.array(tr_set, dtype = 'int')\n",
        "\n",
        "ts_set = pd.read_csv('ml-100k/u1.test', delimiter = '\\t')\n",
        "\n",
        "ts_set = np.array(tr_set, dtype = 'int')"
      ],
      "metadata": {
        "id": "pf63ECpnCpvC"
      },
      "execution_count": null,
      "outputs": []
    },
    {
      "cell_type": "code",
      "source": [
        "#Users and Movies\n",
        "\n",
        "n_users = int(max((max(tr_set[:, 0]), max(ts_set[:, 0]))))\n",
        "n_movies = int(max((max(tr_set[:, 1]), max(ts_set[:, 1]))))"
      ],
      "metadata": {
        "id": "twkJbwKTCpsg"
      },
      "execution_count": null,
      "outputs": []
    },
    {
      "cell_type": "code",
      "source": [
        "n_movies"
      ],
      "metadata": {
        "colab": {
          "base_uri": "https://localhost:8080/"
        },
        "id": "V16VIoBiCppb",
        "outputId": "6d6c5095-a474-47cc-b361-c85ff3a4c9f7"
      },
      "execution_count": null,
      "outputs": [
        {
          "output_type": "execute_result",
          "data": {
            "text/plain": [
              "1682"
            ]
          },
          "metadata": {},
          "execution_count": 32
        }
      ]
    },
    {
      "cell_type": "code",
      "source": [
        "def arrange(data):\n",
        "  new_data = []\n",
        "  for users in range(1, n_users+1):\n",
        "    id_movies = data[:, 1][data[:, 0] == users]\n",
        "    id_ratings = data[:, 2][data[:, 0] == users]\n",
        "    ratings = np.zeros(n_movies)\n",
        "    ratings[id_movies - 1] =  id_ratings\n",
        "    new_data.append(list(ratings))\n",
        "  return new_data"
      ],
      "metadata": {
        "id": "g_xMueWxCpmn"
      },
      "execution_count": null,
      "outputs": []
    },
    {
      "cell_type": "code",
      "source": [
        "tr_set = arrange(tr_set)\n",
        "ts_set = arrange(ts_set)"
      ],
      "metadata": {
        "id": "fNXbkm2dCpkB"
      },
      "execution_count": null,
      "outputs": []
    },
    {
      "cell_type": "code",
      "source": [
        "tr_set = torch.FloatTensor(tr_set)\n",
        "ts_set = torch.FloatTensor(ts_set)"
      ],
      "metadata": {
        "id": "-yo5voWWCpdU"
      },
      "execution_count": null,
      "outputs": []
    },
    {
      "cell_type": "code",
      "source": [
        "#Model Architecture\n",
        "\n",
        "class SAE(nn.Module):\n",
        "  def __init__(self, ):\n",
        "    super(SAE, self).__init__()\n",
        "  \n",
        "    self.fc1 = nn.Linear(n_movies, 20)\n",
        "    self.fc2 = nn.Linear(20, 10)\n",
        "    self.fc3 = nn.Linear(10, 5)\n",
        "    self.fc4 = nn.Linear(5, 20)\n",
        "    self.fc5 = nn.Linear(20, n_movies)\n",
        "    self.activation = nn.Sigmoid()\n",
        "\n",
        "  def forward(self, x):\n",
        "    x = self.activation(self.fc1(x))\n",
        "    x = self.activation(self.fc2(x))\n",
        "    x = self.activation(self.fc3(x))\n",
        "    x = self.activation(self.fc4(x))\n",
        "    x = self.fc5(x)\n",
        "    return x\n",
        "  \n",
        "sae = SAE()\n",
        "\n",
        "criteria = nn.MSELoss()\n",
        "optimizer = optim.RMSprop(sae.parameters(), lr = 0.01, weight_decay= 0.5)\n"
      ],
      "metadata": {
        "id": "sBJnFB9vCpah"
      },
      "execution_count": null,
      "outputs": []
    },
    {
      "cell_type": "code",
      "source": [
        "#Training\n",
        "\n",
        "epochs = 200\n",
        "\n",
        "for epoch in range(1, epochs + 1):\n",
        "  tr_loss = 0\n",
        "  s = 0\n",
        "\n",
        "  for user in range(n_users):\n",
        "    input =  Variable(tr_set[user]).unsqueeze(0)\n",
        "    target = input.clone()\n",
        "    if torch.sum(target.data > 0) > 0:\n",
        "      output = sae(input)\n",
        "      target.require_grad = False\n",
        "      output[target == 0] = 0\n",
        "      loss = criteria(output, target)\n",
        "      mean_corrector = n_movies/float(torch.sum(target.data > 0 ) + 1e-10)\n",
        "      loss.backward()\n",
        "      tr_loss += np.sqrt(loss.data*mean_corrector)\n",
        "      s +=1.\n",
        "      optimizer.step()\n",
        "  print('epoch: '+ str(epoch) + ' loss: ' + str(tr_loss/s))"
      ],
      "metadata": {
        "id": "U79AsGklU_LS"
      },
      "execution_count": null,
      "outputs": []
    },
    {
      "cell_type": "code",
      "source": [
        ""
      ],
      "metadata": {
        "id": "WdpXaw45U_Ib"
      },
      "execution_count": null,
      "outputs": []
    },
    {
      "cell_type": "code",
      "source": [
        "#For Test Data\n",
        "ts_loss = 0\n",
        "s = 0.\n",
        "for user in range(n_users):\n",
        "    input =  Variable(tr_set[user]).unsqueeze(0)\n",
        "    target = Variable(ts_set[user])\n",
        "    if torch.sum(target.data > 0) > 0:\n",
        "      output = sae(input)\n",
        "      target.require_grad = False\n",
        "      output[(target == 0).unsqueeze(0)] = 0\n",
        "      loss = criteria(output, target)\n",
        "      mean_corrector = n_movies/float(torch.sum(target.data > 0 ) + 1e-10)\n",
        "      loss.backward()\n",
        "      ts_loss += np.sqrt(loss.data*mean_corrector)\n",
        "      s +=1.\n",
        "      optimizer.step()\n",
        "print('test loss: ' + str(ts_loss/s))"
      ],
      "metadata": {
        "colab": {
          "base_uri": "https://localhost:8080/"
        },
        "id": "wcv29hNFU_Gf",
        "outputId": "ccdeb145-419d-4c79-8fd4-80f8674f2c5b"
      },
      "execution_count": null,
      "outputs": [
        {
          "output_type": "stream",
          "name": "stderr",
          "text": [
            "/usr/local/lib/python3.7/dist-packages/torch/nn/modules/loss.py:520: UserWarning: Using a target size (torch.Size([1682])) that is different to the input size (torch.Size([1, 1682])). This will likely lead to incorrect results due to broadcasting. Please ensure they have the same size.\n",
            "  return F.mse_loss(input, target, reduction=self.reduction)\n"
          ]
        },
        {
          "output_type": "stream",
          "name": "stdout",
          "text": [
            "test loss: tensor(0.9425)\n"
          ]
        }
      ]
    }
  ]
}